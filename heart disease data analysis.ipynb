{
 "cells": [
  {
   "cell_type": "markdown",
   "id": "8c634e41",
   "metadata": {
    "papermill": {
     "duration": 0.04902,
     "end_time": "2021-12-27T16:02:11.641834",
     "exception": false,
     "start_time": "2021-12-27T16:02:11.592814",
     "status": "completed"
    },
    "tags": []
   },
   "source": [
    "This data set dates from 1988 and consists of four databases: Cleveland, Hungary, Switzerland, and Long Beach V. It contains 76 attributes, including the predicted attribute, but all published experiments refer to using a subset of 14 of them. The \"target\" field refers to the presence of heart disease in the patient. It is integer valued 0 = no disease and 1 = disease."
   ]
  },
  {
   "cell_type": "markdown",
   "id": "1470bc2a",
   "metadata": {
    "papermill": {
     "duration": 0.036979,
     "end_time": "2021-12-27T16:02:11.721950",
     "exception": false,
     "start_time": "2021-12-27T16:02:11.684971",
     "status": "completed"
    },
    "tags": []
   },
   "source": [
    "# Step 1: Importing the libraries and dataset"
   ]
  },
  {
   "cell_type": "code",
   "execution_count": 1,
   "id": "f12a7e0e",
   "metadata": {
    "execution": {
     "iopub.execute_input": "2021-12-27T16:02:11.799074Z",
     "iopub.status.busy": "2021-12-27T16:02:11.797957Z",
     "iopub.status.idle": "2021-12-27T16:02:12.687103Z",
     "shell.execute_reply": "2021-12-27T16:02:12.686358Z",
     "shell.execute_reply.started": "2021-12-27T15:37:30.143549Z"
    },
    "papermill": {
     "duration": 0.928846,
     "end_time": "2021-12-27T16:02:12.687261",
     "exception": false,
     "start_time": "2021-12-27T16:02:11.758415",
     "status": "completed"
    },
    "tags": []
   },
   "outputs": [],
   "source": [
    "import numpy as np\n",
    "import pandas as pd\n",
    "import matplotlib.pyplot as plt\n",
    "import seaborn as sns\n",
    "%matplotlib inline"
   ]
  },
  {
   "cell_type": "code",
   "execution_count": 2,
   "id": "41bb8a3b",
   "metadata": {
    "execution": {
     "iopub.execute_input": "2021-12-27T16:02:12.764993Z",
     "iopub.status.busy": "2021-12-27T16:02:12.764392Z",
     "iopub.status.idle": "2021-12-27T16:02:12.805492Z",
     "shell.execute_reply": "2021-12-27T16:02:12.805981Z",
     "shell.execute_reply.started": "2021-12-27T15:37:30.160917Z"
    },
    "papermill": {
     "duration": 0.082287,
     "end_time": "2021-12-27T16:02:12.806144",
     "exception": false,
     "start_time": "2021-12-27T16:02:12.723857",
     "status": "completed"
    },
    "tags": []
   },
   "outputs": [
    {
     "data": {
      "text/html": [
       "<div>\n",
       "<style scoped>\n",
       "    .dataframe tbody tr th:only-of-type {\n",
       "        vertical-align: middle;\n",
       "    }\n",
       "\n",
       "    .dataframe tbody tr th {\n",
       "        vertical-align: top;\n",
       "    }\n",
       "\n",
       "    .dataframe thead th {\n",
       "        text-align: right;\n",
       "    }\n",
       "</style>\n",
       "<table border=\"1\" class=\"dataframe\">\n",
       "  <thead>\n",
       "    <tr style=\"text-align: right;\">\n",
       "      <th></th>\n",
       "      <th>age</th>\n",
       "      <th>sex</th>\n",
       "      <th>cp</th>\n",
       "      <th>trestbps</th>\n",
       "      <th>chol</th>\n",
       "      <th>fbs</th>\n",
       "      <th>restecg</th>\n",
       "      <th>thalach</th>\n",
       "      <th>exang</th>\n",
       "      <th>oldpeak</th>\n",
       "      <th>slope</th>\n",
       "      <th>ca</th>\n",
       "      <th>thal</th>\n",
       "      <th>target</th>\n",
       "    </tr>\n",
       "  </thead>\n",
       "  <tbody>\n",
       "    <tr>\n",
       "      <th>0</th>\n",
       "      <td>52</td>\n",
       "      <td>1</td>\n",
       "      <td>0</td>\n",
       "      <td>125</td>\n",
       "      <td>212</td>\n",
       "      <td>0</td>\n",
       "      <td>1</td>\n",
       "      <td>168</td>\n",
       "      <td>0</td>\n",
       "      <td>1.0</td>\n",
       "      <td>2</td>\n",
       "      <td>2</td>\n",
       "      <td>3</td>\n",
       "      <td>0</td>\n",
       "    </tr>\n",
       "    <tr>\n",
       "      <th>1</th>\n",
       "      <td>53</td>\n",
       "      <td>1</td>\n",
       "      <td>0</td>\n",
       "      <td>140</td>\n",
       "      <td>203</td>\n",
       "      <td>1</td>\n",
       "      <td>0</td>\n",
       "      <td>155</td>\n",
       "      <td>1</td>\n",
       "      <td>3.1</td>\n",
       "      <td>0</td>\n",
       "      <td>0</td>\n",
       "      <td>3</td>\n",
       "      <td>0</td>\n",
       "    </tr>\n",
       "    <tr>\n",
       "      <th>2</th>\n",
       "      <td>70</td>\n",
       "      <td>1</td>\n",
       "      <td>0</td>\n",
       "      <td>145</td>\n",
       "      <td>174</td>\n",
       "      <td>0</td>\n",
       "      <td>1</td>\n",
       "      <td>125</td>\n",
       "      <td>1</td>\n",
       "      <td>2.6</td>\n",
       "      <td>0</td>\n",
       "      <td>0</td>\n",
       "      <td>3</td>\n",
       "      <td>0</td>\n",
       "    </tr>\n",
       "    <tr>\n",
       "      <th>3</th>\n",
       "      <td>61</td>\n",
       "      <td>1</td>\n",
       "      <td>0</td>\n",
       "      <td>148</td>\n",
       "      <td>203</td>\n",
       "      <td>0</td>\n",
       "      <td>1</td>\n",
       "      <td>161</td>\n",
       "      <td>0</td>\n",
       "      <td>0.0</td>\n",
       "      <td>2</td>\n",
       "      <td>1</td>\n",
       "      <td>3</td>\n",
       "      <td>0</td>\n",
       "    </tr>\n",
       "    <tr>\n",
       "      <th>4</th>\n",
       "      <td>62</td>\n",
       "      <td>0</td>\n",
       "      <td>0</td>\n",
       "      <td>138</td>\n",
       "      <td>294</td>\n",
       "      <td>1</td>\n",
       "      <td>1</td>\n",
       "      <td>106</td>\n",
       "      <td>0</td>\n",
       "      <td>1.9</td>\n",
       "      <td>1</td>\n",
       "      <td>3</td>\n",
       "      <td>2</td>\n",
       "      <td>0</td>\n",
       "    </tr>\n",
       "  </tbody>\n",
       "</table>\n",
       "</div>"
      ],
      "text/plain": [
       "   age  sex  cp  trestbps  chol  fbs  restecg  thalach  exang  oldpeak  slope  \\\n",
       "0   52    1   0       125   212    0        1      168      0      1.0      2   \n",
       "1   53    1   0       140   203    1        0      155      1      3.1      0   \n",
       "2   70    1   0       145   174    0        1      125      1      2.6      0   \n",
       "3   61    1   0       148   203    0        1      161      0      0.0      2   \n",
       "4   62    0   0       138   294    1        1      106      0      1.9      1   \n",
       "\n",
       "   ca  thal  target  \n",
       "0   2     3       0  \n",
       "1   0     3       0  \n",
       "2   0     3       0  \n",
       "3   1     3       0  \n",
       "4   3     2       0  "
      ]
     },
     "execution_count": 2,
     "metadata": {},
     "output_type": "execute_result"
    }
   ],
   "source": [
    "df = pd.read_csv('heart.csv')\n",
    "df.head()"
   ]
  },
  {
   "cell_type": "code",
   "execution_count": 3,
   "id": "9b24f87a",
   "metadata": {
    "execution": {
     "iopub.execute_input": "2021-12-27T16:02:12.885082Z",
     "iopub.status.busy": "2021-12-27T16:02:12.884444Z",
     "iopub.status.idle": "2021-12-27T16:02:12.889237Z",
     "shell.execute_reply": "2021-12-27T16:02:12.889821Z",
     "shell.execute_reply.started": "2021-12-27T15:37:30.186454Z"
    },
    "papermill": {
     "duration": 0.045812,
     "end_time": "2021-12-27T16:02:12.889981",
     "exception": false,
     "start_time": "2021-12-27T16:02:12.844169",
     "status": "completed"
    },
    "scrolled": true,
    "tags": []
   },
   "outputs": [
    {
     "data": {
      "text/plain": [
       "Index(['age', 'sex', 'cp', 'trestbps', 'chol', 'fbs', 'restecg', 'thalach',\n",
       "       'exang', 'oldpeak', 'slope', 'ca', 'thal', 'target'],\n",
       "      dtype='object')"
      ]
     },
     "execution_count": 3,
     "metadata": {},
     "output_type": "execute_result"
    }
   ],
   "source": [
    "df.columns"
   ]
  },
  {
   "cell_type": "markdown",
   "id": "2badee55",
   "metadata": {
    "papermill": {
     "duration": 0.038724,
     "end_time": "2021-12-27T16:02:13.025772",
     "exception": false,
     "start_time": "2021-12-27T16:02:12.987048",
     "status": "completed"
    },
    "tags": []
   },
   "source": [
    "Let's go over the columns:\n",
    "1. age\n",
    "2. sex = 1: male; 0: female\n",
    "3. cp = chest pain type\n",
    "4. trestbps = resting blood pressure (in mm Hg on admission to the hospital)\n",
    "5. chol = serum cholestoral in mg/dl\n",
    "6. fbs = fasting blood sugar > 120 mg/dl, 1: true; 0: false\n",
    "7. restecg = resting electrocardiographic results\n",
    "- Value 0: normal\n",
    "- Value 1: having ST-T wave abnormality (T wave inversions and/or ST elevation or depression of > 0.05 mV)\n",
    "- Value 2: showing probable or definite left ventricular hypertrophy by Estes' criteria \n",
    "8. thalach = maximum heart rate achieved\n",
    "9. exang = exercise induced angina, 1:yes; 0: no\n",
    "10. oldpeak = ST depression induced by exercise relative to rest\n",
    "11. slope = the slope of the peak exercise ST segment\n",
    "- Value 1: upsloping\n",
    "- Value 2: flat\n",
    "- Value 3: downsloping \n",
    "12. ca = number of major vessels (0-3) colored by flourosopy\n",
    "13. thal= 0: normal; 1:fixed defect; 2:reversable defect"
   ]
  },
  {
   "cell_type": "markdown",
   "id": "073d6059",
   "metadata": {
    "papermill": {
     "duration": 0.03806,
     "end_time": "2021-12-27T16:02:13.101839",
     "exception": false,
     "start_time": "2021-12-27T16:02:13.063779",
     "status": "completed"
    },
    "tags": []
   },
   "source": [
    "# Step 2: Getting to know the dataset"
   ]
  },
  {
   "cell_type": "code",
   "execution_count": 4,
   "id": "8352e90d",
   "metadata": {
    "execution": {
     "iopub.execute_input": "2021-12-27T16:02:13.200344Z",
     "iopub.status.busy": "2021-12-27T16:02:13.189154Z",
     "iopub.status.idle": "2021-12-27T16:02:13.202555Z",
     "shell.execute_reply": "2021-12-27T16:02:13.202997Z",
     "shell.execute_reply.started": "2021-12-27T15:37:30.193609Z"
    },
    "papermill": {
     "duration": 0.06398,
     "end_time": "2021-12-27T16:02:13.203159",
     "exception": false,
     "start_time": "2021-12-27T16:02:13.139179",
     "status": "completed"
    },
    "tags": []
   },
   "outputs": [
    {
     "name": "stdout",
     "output_type": "stream",
     "text": [
      "<class 'pandas.core.frame.DataFrame'>\n",
      "RangeIndex: 1025 entries, 0 to 1024\n",
      "Data columns (total 14 columns):\n",
      " #   Column    Non-Null Count  Dtype  \n",
      "---  ------    --------------  -----  \n",
      " 0   age       1025 non-null   int64  \n",
      " 1   sex       1025 non-null   int64  \n",
      " 2   cp        1025 non-null   int64  \n",
      " 3   trestbps  1025 non-null   int64  \n",
      " 4   chol      1025 non-null   int64  \n",
      " 5   fbs       1025 non-null   int64  \n",
      " 6   restecg   1025 non-null   int64  \n",
      " 7   thalach   1025 non-null   int64  \n",
      " 8   exang     1025 non-null   int64  \n",
      " 9   oldpeak   1025 non-null   float64\n",
      " 10  slope     1025 non-null   int64  \n",
      " 11  ca        1025 non-null   int64  \n",
      " 12  thal      1025 non-null   int64  \n",
      " 13  target    1025 non-null   int64  \n",
      "dtypes: float64(1), int64(13)\n",
      "memory usage: 112.2 KB\n"
     ]
    }
   ],
   "source": [
    "df.info()"
   ]
  },
  {
   "cell_type": "markdown",
   "id": "69806152",
   "metadata": {
    "papermill": {
     "duration": 0.037435,
     "end_time": "2021-12-27T16:02:13.278445",
     "exception": false,
     "start_time": "2021-12-27T16:02:13.241010",
     "status": "completed"
    },
    "tags": []
   },
   "source": [
    "You can see all the values are int and float."
   ]
  },
  {
   "cell_type": "code",
   "execution_count": 5,
   "id": "a60e6ef3",
   "metadata": {
    "execution": {
     "iopub.execute_input": "2021-12-27T16:02:13.357925Z",
     "iopub.status.busy": "2021-12-27T16:02:13.357261Z",
     "iopub.status.idle": "2021-12-27T16:02:13.363759Z",
     "shell.execute_reply": "2021-12-27T16:02:13.364164Z",
     "shell.execute_reply.started": "2021-12-27T15:37:30.214972Z"
    },
    "papermill": {
     "duration": 0.047978,
     "end_time": "2021-12-27T16:02:13.364356",
     "exception": false,
     "start_time": "2021-12-27T16:02:13.316378",
     "status": "completed"
    },
    "tags": []
   },
   "outputs": [
    {
     "data": {
      "text/plain": [
       "age         0\n",
       "sex         0\n",
       "cp          0\n",
       "trestbps    0\n",
       "chol        0\n",
       "fbs         0\n",
       "restecg     0\n",
       "thalach     0\n",
       "exang       0\n",
       "oldpeak     0\n",
       "slope       0\n",
       "ca          0\n",
       "thal        0\n",
       "target      0\n",
       "dtype: int64"
      ]
     },
     "execution_count": 5,
     "metadata": {},
     "output_type": "execute_result"
    }
   ],
   "source": [
    "df.isnull().sum()"
   ]
  },
  {
   "cell_type": "markdown",
   "id": "a40d8c4d",
   "metadata": {
    "papermill": {
     "duration": 0.037489,
     "end_time": "2021-12-27T16:02:13.439961",
     "exception": false,
     "start_time": "2021-12-27T16:02:13.402472",
     "status": "completed"
    },
    "tags": []
   },
   "source": [
    "There is no missing values in this dataset!"
   ]
  },
  {
   "cell_type": "code",
   "execution_count": 6,
   "id": "cf4c3012",
   "metadata": {
    "execution": {
     "iopub.execute_input": "2021-12-27T16:02:13.519187Z",
     "iopub.status.busy": "2021-12-27T16:02:13.518594Z",
     "iopub.status.idle": "2021-12-27T16:02:13.523867Z",
     "shell.execute_reply": "2021-12-27T16:02:13.523361Z",
     "shell.execute_reply.started": "2021-12-27T15:37:30.224671Z"
    },
    "papermill": {
     "duration": 0.046091,
     "end_time": "2021-12-27T16:02:13.523995",
     "exception": false,
     "start_time": "2021-12-27T16:02:13.477904",
     "status": "completed"
    },
    "tags": []
   },
   "outputs": [
    {
     "data": {
      "text/plain": [
       "(1025, 14)"
      ]
     },
     "execution_count": 6,
     "metadata": {},
     "output_type": "execute_result"
    }
   ],
   "source": [
    "df.shape"
   ]
  },
  {
   "cell_type": "markdown",
   "id": "c6db4d25",
   "metadata": {
    "papermill": {
     "duration": 0.046793,
     "end_time": "2021-12-27T16:02:13.609382",
     "exception": false,
     "start_time": "2021-12-27T16:02:13.562589",
     "status": "completed"
    },
    "tags": []
   },
   "source": [
    "1025 data are available in this dataset."
   ]
  },
  {
   "cell_type": "code",
   "execution_count": 7,
   "id": "d6817c9c",
   "metadata": {
    "execution": {
     "iopub.execute_input": "2021-12-27T16:02:13.711711Z",
     "iopub.status.busy": "2021-12-27T16:02:13.711034Z",
     "iopub.status.idle": "2021-12-27T16:02:13.757248Z",
     "shell.execute_reply": "2021-12-27T16:02:13.757703Z",
     "shell.execute_reply.started": "2021-12-27T15:37:30.235462Z"
    },
    "papermill": {
     "duration": 0.099291,
     "end_time": "2021-12-27T16:02:13.757881",
     "exception": false,
     "start_time": "2021-12-27T16:02:13.658590",
     "status": "completed"
    },
    "scrolled": true,
    "tags": []
   },
   "outputs": [
    {
     "data": {
      "text/html": [
       "<div>\n",
       "<style scoped>\n",
       "    .dataframe tbody tr th:only-of-type {\n",
       "        vertical-align: middle;\n",
       "    }\n",
       "\n",
       "    .dataframe tbody tr th {\n",
       "        vertical-align: top;\n",
       "    }\n",
       "\n",
       "    .dataframe thead th {\n",
       "        text-align: right;\n",
       "    }\n",
       "</style>\n",
       "<table border=\"1\" class=\"dataframe\">\n",
       "  <thead>\n",
       "    <tr style=\"text-align: right;\">\n",
       "      <th></th>\n",
       "      <th>age</th>\n",
       "      <th>sex</th>\n",
       "      <th>cp</th>\n",
       "      <th>trestbps</th>\n",
       "      <th>chol</th>\n",
       "      <th>fbs</th>\n",
       "      <th>restecg</th>\n",
       "      <th>thalach</th>\n",
       "      <th>exang</th>\n",
       "      <th>oldpeak</th>\n",
       "      <th>slope</th>\n",
       "      <th>ca</th>\n",
       "      <th>thal</th>\n",
       "      <th>target</th>\n",
       "    </tr>\n",
       "  </thead>\n",
       "  <tbody>\n",
       "    <tr>\n",
       "      <th>count</th>\n",
       "      <td>1025.000000</td>\n",
       "      <td>1025.000000</td>\n",
       "      <td>1025.000000</td>\n",
       "      <td>1025.000000</td>\n",
       "      <td>1025.00000</td>\n",
       "      <td>1025.000000</td>\n",
       "      <td>1025.000000</td>\n",
       "      <td>1025.000000</td>\n",
       "      <td>1025.000000</td>\n",
       "      <td>1025.000000</td>\n",
       "      <td>1025.000000</td>\n",
       "      <td>1025.000000</td>\n",
       "      <td>1025.000000</td>\n",
       "      <td>1025.000000</td>\n",
       "    </tr>\n",
       "    <tr>\n",
       "      <th>mean</th>\n",
       "      <td>54.434146</td>\n",
       "      <td>0.695610</td>\n",
       "      <td>0.942439</td>\n",
       "      <td>131.611707</td>\n",
       "      <td>246.00000</td>\n",
       "      <td>0.149268</td>\n",
       "      <td>0.529756</td>\n",
       "      <td>149.114146</td>\n",
       "      <td>0.336585</td>\n",
       "      <td>1.071512</td>\n",
       "      <td>1.385366</td>\n",
       "      <td>0.754146</td>\n",
       "      <td>2.323902</td>\n",
       "      <td>0.513171</td>\n",
       "    </tr>\n",
       "    <tr>\n",
       "      <th>std</th>\n",
       "      <td>9.072290</td>\n",
       "      <td>0.460373</td>\n",
       "      <td>1.029641</td>\n",
       "      <td>17.516718</td>\n",
       "      <td>51.59251</td>\n",
       "      <td>0.356527</td>\n",
       "      <td>0.527878</td>\n",
       "      <td>23.005724</td>\n",
       "      <td>0.472772</td>\n",
       "      <td>1.175053</td>\n",
       "      <td>0.617755</td>\n",
       "      <td>1.030798</td>\n",
       "      <td>0.620660</td>\n",
       "      <td>0.500070</td>\n",
       "    </tr>\n",
       "    <tr>\n",
       "      <th>min</th>\n",
       "      <td>29.000000</td>\n",
       "      <td>0.000000</td>\n",
       "      <td>0.000000</td>\n",
       "      <td>94.000000</td>\n",
       "      <td>126.00000</td>\n",
       "      <td>0.000000</td>\n",
       "      <td>0.000000</td>\n",
       "      <td>71.000000</td>\n",
       "      <td>0.000000</td>\n",
       "      <td>0.000000</td>\n",
       "      <td>0.000000</td>\n",
       "      <td>0.000000</td>\n",
       "      <td>0.000000</td>\n",
       "      <td>0.000000</td>\n",
       "    </tr>\n",
       "    <tr>\n",
       "      <th>25%</th>\n",
       "      <td>48.000000</td>\n",
       "      <td>0.000000</td>\n",
       "      <td>0.000000</td>\n",
       "      <td>120.000000</td>\n",
       "      <td>211.00000</td>\n",
       "      <td>0.000000</td>\n",
       "      <td>0.000000</td>\n",
       "      <td>132.000000</td>\n",
       "      <td>0.000000</td>\n",
       "      <td>0.000000</td>\n",
       "      <td>1.000000</td>\n",
       "      <td>0.000000</td>\n",
       "      <td>2.000000</td>\n",
       "      <td>0.000000</td>\n",
       "    </tr>\n",
       "    <tr>\n",
       "      <th>50%</th>\n",
       "      <td>56.000000</td>\n",
       "      <td>1.000000</td>\n",
       "      <td>1.000000</td>\n",
       "      <td>130.000000</td>\n",
       "      <td>240.00000</td>\n",
       "      <td>0.000000</td>\n",
       "      <td>1.000000</td>\n",
       "      <td>152.000000</td>\n",
       "      <td>0.000000</td>\n",
       "      <td>0.800000</td>\n",
       "      <td>1.000000</td>\n",
       "      <td>0.000000</td>\n",
       "      <td>2.000000</td>\n",
       "      <td>1.000000</td>\n",
       "    </tr>\n",
       "    <tr>\n",
       "      <th>75%</th>\n",
       "      <td>61.000000</td>\n",
       "      <td>1.000000</td>\n",
       "      <td>2.000000</td>\n",
       "      <td>140.000000</td>\n",
       "      <td>275.00000</td>\n",
       "      <td>0.000000</td>\n",
       "      <td>1.000000</td>\n",
       "      <td>166.000000</td>\n",
       "      <td>1.000000</td>\n",
       "      <td>1.800000</td>\n",
       "      <td>2.000000</td>\n",
       "      <td>1.000000</td>\n",
       "      <td>3.000000</td>\n",
       "      <td>1.000000</td>\n",
       "    </tr>\n",
       "    <tr>\n",
       "      <th>max</th>\n",
       "      <td>77.000000</td>\n",
       "      <td>1.000000</td>\n",
       "      <td>3.000000</td>\n",
       "      <td>200.000000</td>\n",
       "      <td>564.00000</td>\n",
       "      <td>1.000000</td>\n",
       "      <td>2.000000</td>\n",
       "      <td>202.000000</td>\n",
       "      <td>1.000000</td>\n",
       "      <td>6.200000</td>\n",
       "      <td>2.000000</td>\n",
       "      <td>4.000000</td>\n",
       "      <td>3.000000</td>\n",
       "      <td>1.000000</td>\n",
       "    </tr>\n",
       "  </tbody>\n",
       "</table>\n",
       "</div>"
      ],
      "text/plain": [
       "               age          sex           cp     trestbps        chol  \\\n",
       "count  1025.000000  1025.000000  1025.000000  1025.000000  1025.00000   \n",
       "mean     54.434146     0.695610     0.942439   131.611707   246.00000   \n",
       "std       9.072290     0.460373     1.029641    17.516718    51.59251   \n",
       "min      29.000000     0.000000     0.000000    94.000000   126.00000   \n",
       "25%      48.000000     0.000000     0.000000   120.000000   211.00000   \n",
       "50%      56.000000     1.000000     1.000000   130.000000   240.00000   \n",
       "75%      61.000000     1.000000     2.000000   140.000000   275.00000   \n",
       "max      77.000000     1.000000     3.000000   200.000000   564.00000   \n",
       "\n",
       "               fbs      restecg      thalach        exang      oldpeak  \\\n",
       "count  1025.000000  1025.000000  1025.000000  1025.000000  1025.000000   \n",
       "mean      0.149268     0.529756   149.114146     0.336585     1.071512   \n",
       "std       0.356527     0.527878    23.005724     0.472772     1.175053   \n",
       "min       0.000000     0.000000    71.000000     0.000000     0.000000   \n",
       "25%       0.000000     0.000000   132.000000     0.000000     0.000000   \n",
       "50%       0.000000     1.000000   152.000000     0.000000     0.800000   \n",
       "75%       0.000000     1.000000   166.000000     1.000000     1.800000   \n",
       "max       1.000000     2.000000   202.000000     1.000000     6.200000   \n",
       "\n",
       "             slope           ca         thal       target  \n",
       "count  1025.000000  1025.000000  1025.000000  1025.000000  \n",
       "mean      1.385366     0.754146     2.323902     0.513171  \n",
       "std       0.617755     1.030798     0.620660     0.500070  \n",
       "min       0.000000     0.000000     0.000000     0.000000  \n",
       "25%       1.000000     0.000000     2.000000     0.000000  \n",
       "50%       1.000000     0.000000     2.000000     1.000000  \n",
       "75%       2.000000     1.000000     3.000000     1.000000  \n",
       "max       2.000000     4.000000     3.000000     1.000000  "
      ]
     },
     "execution_count": 7,
     "metadata": {},
     "output_type": "execute_result"
    }
   ],
   "source": [
    "df.describe()"
   ]
  },
  {
   "cell_type": "code",
   "execution_count": 8,
   "id": "da1a8c26",
   "metadata": {
    "execution": {
     "iopub.execute_input": "2021-12-27T16:02:13.841783Z",
     "iopub.status.busy": "2021-12-27T16:02:13.841082Z",
     "iopub.status.idle": "2021-12-27T16:02:13.864769Z",
     "shell.execute_reply": "2021-12-27T16:02:13.864211Z",
     "shell.execute_reply.started": "2021-12-27T15:37:30.291493Z"
    },
    "papermill": {
     "duration": 0.066701,
     "end_time": "2021-12-27T16:02:13.864921",
     "exception": false,
     "start_time": "2021-12-27T16:02:13.798220",
     "status": "completed"
    },
    "scrolled": true,
    "tags": []
   },
   "outputs": [
    {
     "data": {
      "text/html": [
       "<div>\n",
       "<style scoped>\n",
       "    .dataframe tbody tr th:only-of-type {\n",
       "        vertical-align: middle;\n",
       "    }\n",
       "\n",
       "    .dataframe tbody tr th {\n",
       "        vertical-align: top;\n",
       "    }\n",
       "\n",
       "    .dataframe thead th {\n",
       "        text-align: right;\n",
       "    }\n",
       "</style>\n",
       "<table border=\"1\" class=\"dataframe\">\n",
       "  <thead>\n",
       "    <tr style=\"text-align: right;\">\n",
       "      <th></th>\n",
       "      <th>age</th>\n",
       "      <th>sex</th>\n",
       "      <th>cp</th>\n",
       "      <th>trestbps</th>\n",
       "      <th>chol</th>\n",
       "      <th>fbs</th>\n",
       "      <th>restecg</th>\n",
       "      <th>thalach</th>\n",
       "      <th>exang</th>\n",
       "      <th>oldpeak</th>\n",
       "      <th>slope</th>\n",
       "      <th>ca</th>\n",
       "      <th>thal</th>\n",
       "      <th>target</th>\n",
       "    </tr>\n",
       "  </thead>\n",
       "  <tbody>\n",
       "    <tr>\n",
       "      <th>age</th>\n",
       "      <td>1.000000</td>\n",
       "      <td>-0.103240</td>\n",
       "      <td>-0.071966</td>\n",
       "      <td>0.271121</td>\n",
       "      <td>0.219823</td>\n",
       "      <td>0.121243</td>\n",
       "      <td>-0.132696</td>\n",
       "      <td>-0.390227</td>\n",
       "      <td>0.088163</td>\n",
       "      <td>0.208137</td>\n",
       "      <td>-0.169105</td>\n",
       "      <td>0.271551</td>\n",
       "      <td>0.072297</td>\n",
       "      <td>-0.229324</td>\n",
       "    </tr>\n",
       "    <tr>\n",
       "      <th>sex</th>\n",
       "      <td>-0.103240</td>\n",
       "      <td>1.000000</td>\n",
       "      <td>-0.041119</td>\n",
       "      <td>-0.078974</td>\n",
       "      <td>-0.198258</td>\n",
       "      <td>0.027200</td>\n",
       "      <td>-0.055117</td>\n",
       "      <td>-0.049365</td>\n",
       "      <td>0.139157</td>\n",
       "      <td>0.084687</td>\n",
       "      <td>-0.026666</td>\n",
       "      <td>0.111729</td>\n",
       "      <td>0.198424</td>\n",
       "      <td>-0.279501</td>\n",
       "    </tr>\n",
       "    <tr>\n",
       "      <th>cp</th>\n",
       "      <td>-0.071966</td>\n",
       "      <td>-0.041119</td>\n",
       "      <td>1.000000</td>\n",
       "      <td>0.038177</td>\n",
       "      <td>-0.081641</td>\n",
       "      <td>0.079294</td>\n",
       "      <td>0.043581</td>\n",
       "      <td>0.306839</td>\n",
       "      <td>-0.401513</td>\n",
       "      <td>-0.174733</td>\n",
       "      <td>0.131633</td>\n",
       "      <td>-0.176206</td>\n",
       "      <td>-0.163341</td>\n",
       "      <td>0.434854</td>\n",
       "    </tr>\n",
       "    <tr>\n",
       "      <th>trestbps</th>\n",
       "      <td>0.271121</td>\n",
       "      <td>-0.078974</td>\n",
       "      <td>0.038177</td>\n",
       "      <td>1.000000</td>\n",
       "      <td>0.127977</td>\n",
       "      <td>0.181767</td>\n",
       "      <td>-0.123794</td>\n",
       "      <td>-0.039264</td>\n",
       "      <td>0.061197</td>\n",
       "      <td>0.187434</td>\n",
       "      <td>-0.120445</td>\n",
       "      <td>0.104554</td>\n",
       "      <td>0.059276</td>\n",
       "      <td>-0.138772</td>\n",
       "    </tr>\n",
       "    <tr>\n",
       "      <th>chol</th>\n",
       "      <td>0.219823</td>\n",
       "      <td>-0.198258</td>\n",
       "      <td>-0.081641</td>\n",
       "      <td>0.127977</td>\n",
       "      <td>1.000000</td>\n",
       "      <td>0.026917</td>\n",
       "      <td>-0.147410</td>\n",
       "      <td>-0.021772</td>\n",
       "      <td>0.067382</td>\n",
       "      <td>0.064880</td>\n",
       "      <td>-0.014248</td>\n",
       "      <td>0.074259</td>\n",
       "      <td>0.100244</td>\n",
       "      <td>-0.099966</td>\n",
       "    </tr>\n",
       "    <tr>\n",
       "      <th>fbs</th>\n",
       "      <td>0.121243</td>\n",
       "      <td>0.027200</td>\n",
       "      <td>0.079294</td>\n",
       "      <td>0.181767</td>\n",
       "      <td>0.026917</td>\n",
       "      <td>1.000000</td>\n",
       "      <td>-0.104051</td>\n",
       "      <td>-0.008866</td>\n",
       "      <td>0.049261</td>\n",
       "      <td>0.010859</td>\n",
       "      <td>-0.061902</td>\n",
       "      <td>0.137156</td>\n",
       "      <td>-0.042177</td>\n",
       "      <td>-0.041164</td>\n",
       "    </tr>\n",
       "    <tr>\n",
       "      <th>restecg</th>\n",
       "      <td>-0.132696</td>\n",
       "      <td>-0.055117</td>\n",
       "      <td>0.043581</td>\n",
       "      <td>-0.123794</td>\n",
       "      <td>-0.147410</td>\n",
       "      <td>-0.104051</td>\n",
       "      <td>1.000000</td>\n",
       "      <td>0.048411</td>\n",
       "      <td>-0.065606</td>\n",
       "      <td>-0.050114</td>\n",
       "      <td>0.086086</td>\n",
       "      <td>-0.078072</td>\n",
       "      <td>-0.020504</td>\n",
       "      <td>0.134468</td>\n",
       "    </tr>\n",
       "    <tr>\n",
       "      <th>thalach</th>\n",
       "      <td>-0.390227</td>\n",
       "      <td>-0.049365</td>\n",
       "      <td>0.306839</td>\n",
       "      <td>-0.039264</td>\n",
       "      <td>-0.021772</td>\n",
       "      <td>-0.008866</td>\n",
       "      <td>0.048411</td>\n",
       "      <td>1.000000</td>\n",
       "      <td>-0.380281</td>\n",
       "      <td>-0.349796</td>\n",
       "      <td>0.395308</td>\n",
       "      <td>-0.207888</td>\n",
       "      <td>-0.098068</td>\n",
       "      <td>0.422895</td>\n",
       "    </tr>\n",
       "    <tr>\n",
       "      <th>exang</th>\n",
       "      <td>0.088163</td>\n",
       "      <td>0.139157</td>\n",
       "      <td>-0.401513</td>\n",
       "      <td>0.061197</td>\n",
       "      <td>0.067382</td>\n",
       "      <td>0.049261</td>\n",
       "      <td>-0.065606</td>\n",
       "      <td>-0.380281</td>\n",
       "      <td>1.000000</td>\n",
       "      <td>0.310844</td>\n",
       "      <td>-0.267335</td>\n",
       "      <td>0.107849</td>\n",
       "      <td>0.197201</td>\n",
       "      <td>-0.438029</td>\n",
       "    </tr>\n",
       "    <tr>\n",
       "      <th>oldpeak</th>\n",
       "      <td>0.208137</td>\n",
       "      <td>0.084687</td>\n",
       "      <td>-0.174733</td>\n",
       "      <td>0.187434</td>\n",
       "      <td>0.064880</td>\n",
       "      <td>0.010859</td>\n",
       "      <td>-0.050114</td>\n",
       "      <td>-0.349796</td>\n",
       "      <td>0.310844</td>\n",
       "      <td>1.000000</td>\n",
       "      <td>-0.575189</td>\n",
       "      <td>0.221816</td>\n",
       "      <td>0.202672</td>\n",
       "      <td>-0.438441</td>\n",
       "    </tr>\n",
       "    <tr>\n",
       "      <th>slope</th>\n",
       "      <td>-0.169105</td>\n",
       "      <td>-0.026666</td>\n",
       "      <td>0.131633</td>\n",
       "      <td>-0.120445</td>\n",
       "      <td>-0.014248</td>\n",
       "      <td>-0.061902</td>\n",
       "      <td>0.086086</td>\n",
       "      <td>0.395308</td>\n",
       "      <td>-0.267335</td>\n",
       "      <td>-0.575189</td>\n",
       "      <td>1.000000</td>\n",
       "      <td>-0.073440</td>\n",
       "      <td>-0.094090</td>\n",
       "      <td>0.345512</td>\n",
       "    </tr>\n",
       "    <tr>\n",
       "      <th>ca</th>\n",
       "      <td>0.271551</td>\n",
       "      <td>0.111729</td>\n",
       "      <td>-0.176206</td>\n",
       "      <td>0.104554</td>\n",
       "      <td>0.074259</td>\n",
       "      <td>0.137156</td>\n",
       "      <td>-0.078072</td>\n",
       "      <td>-0.207888</td>\n",
       "      <td>0.107849</td>\n",
       "      <td>0.221816</td>\n",
       "      <td>-0.073440</td>\n",
       "      <td>1.000000</td>\n",
       "      <td>0.149014</td>\n",
       "      <td>-0.382085</td>\n",
       "    </tr>\n",
       "    <tr>\n",
       "      <th>thal</th>\n",
       "      <td>0.072297</td>\n",
       "      <td>0.198424</td>\n",
       "      <td>-0.163341</td>\n",
       "      <td>0.059276</td>\n",
       "      <td>0.100244</td>\n",
       "      <td>-0.042177</td>\n",
       "      <td>-0.020504</td>\n",
       "      <td>-0.098068</td>\n",
       "      <td>0.197201</td>\n",
       "      <td>0.202672</td>\n",
       "      <td>-0.094090</td>\n",
       "      <td>0.149014</td>\n",
       "      <td>1.000000</td>\n",
       "      <td>-0.337838</td>\n",
       "    </tr>\n",
       "    <tr>\n",
       "      <th>target</th>\n",
       "      <td>-0.229324</td>\n",
       "      <td>-0.279501</td>\n",
       "      <td>0.434854</td>\n",
       "      <td>-0.138772</td>\n",
       "      <td>-0.099966</td>\n",
       "      <td>-0.041164</td>\n",
       "      <td>0.134468</td>\n",
       "      <td>0.422895</td>\n",
       "      <td>-0.438029</td>\n",
       "      <td>-0.438441</td>\n",
       "      <td>0.345512</td>\n",
       "      <td>-0.382085</td>\n",
       "      <td>-0.337838</td>\n",
       "      <td>1.000000</td>\n",
       "    </tr>\n",
       "  </tbody>\n",
       "</table>\n",
       "</div>"
      ],
      "text/plain": [
       "               age       sex        cp  trestbps      chol       fbs  \\\n",
       "age       1.000000 -0.103240 -0.071966  0.271121  0.219823  0.121243   \n",
       "sex      -0.103240  1.000000 -0.041119 -0.078974 -0.198258  0.027200   \n",
       "cp       -0.071966 -0.041119  1.000000  0.038177 -0.081641  0.079294   \n",
       "trestbps  0.271121 -0.078974  0.038177  1.000000  0.127977  0.181767   \n",
       "chol      0.219823 -0.198258 -0.081641  0.127977  1.000000  0.026917   \n",
       "fbs       0.121243  0.027200  0.079294  0.181767  0.026917  1.000000   \n",
       "restecg  -0.132696 -0.055117  0.043581 -0.123794 -0.147410 -0.104051   \n",
       "thalach  -0.390227 -0.049365  0.306839 -0.039264 -0.021772 -0.008866   \n",
       "exang     0.088163  0.139157 -0.401513  0.061197  0.067382  0.049261   \n",
       "oldpeak   0.208137  0.084687 -0.174733  0.187434  0.064880  0.010859   \n",
       "slope    -0.169105 -0.026666  0.131633 -0.120445 -0.014248 -0.061902   \n",
       "ca        0.271551  0.111729 -0.176206  0.104554  0.074259  0.137156   \n",
       "thal      0.072297  0.198424 -0.163341  0.059276  0.100244 -0.042177   \n",
       "target   -0.229324 -0.279501  0.434854 -0.138772 -0.099966 -0.041164   \n",
       "\n",
       "           restecg   thalach     exang   oldpeak     slope        ca  \\\n",
       "age      -0.132696 -0.390227  0.088163  0.208137 -0.169105  0.271551   \n",
       "sex      -0.055117 -0.049365  0.139157  0.084687 -0.026666  0.111729   \n",
       "cp        0.043581  0.306839 -0.401513 -0.174733  0.131633 -0.176206   \n",
       "trestbps -0.123794 -0.039264  0.061197  0.187434 -0.120445  0.104554   \n",
       "chol     -0.147410 -0.021772  0.067382  0.064880 -0.014248  0.074259   \n",
       "fbs      -0.104051 -0.008866  0.049261  0.010859 -0.061902  0.137156   \n",
       "restecg   1.000000  0.048411 -0.065606 -0.050114  0.086086 -0.078072   \n",
       "thalach   0.048411  1.000000 -0.380281 -0.349796  0.395308 -0.207888   \n",
       "exang    -0.065606 -0.380281  1.000000  0.310844 -0.267335  0.107849   \n",
       "oldpeak  -0.050114 -0.349796  0.310844  1.000000 -0.575189  0.221816   \n",
       "slope     0.086086  0.395308 -0.267335 -0.575189  1.000000 -0.073440   \n",
       "ca       -0.078072 -0.207888  0.107849  0.221816 -0.073440  1.000000   \n",
       "thal     -0.020504 -0.098068  0.197201  0.202672 -0.094090  0.149014   \n",
       "target    0.134468  0.422895 -0.438029 -0.438441  0.345512 -0.382085   \n",
       "\n",
       "              thal    target  \n",
       "age       0.072297 -0.229324  \n",
       "sex       0.198424 -0.279501  \n",
       "cp       -0.163341  0.434854  \n",
       "trestbps  0.059276 -0.138772  \n",
       "chol      0.100244 -0.099966  \n",
       "fbs      -0.042177 -0.041164  \n",
       "restecg  -0.020504  0.134468  \n",
       "thalach  -0.098068  0.422895  \n",
       "exang     0.197201 -0.438029  \n",
       "oldpeak   0.202672 -0.438441  \n",
       "slope    -0.094090  0.345512  \n",
       "ca        0.149014 -0.382085  \n",
       "thal      1.000000 -0.337838  \n",
       "target   -0.337838  1.000000  "
      ]
     },
     "execution_count": 8,
     "metadata": {},
     "output_type": "execute_result"
    }
   ],
   "source": [
    "df.corr()"
   ]
  },
  {
   "cell_type": "markdown",
   "id": "738322fa",
   "metadata": {
    "papermill": {
     "duration": 0.041562,
     "end_time": "2021-12-27T16:02:13.949624",
     "exception": false,
     "start_time": "2021-12-27T16:02:13.908062",
     "status": "completed"
    },
    "tags": []
   },
   "source": [
    "# Step 3: Exploratory data analysis"
   ]
  },
  {
   "cell_type": "markdown",
   "id": "ee88d935",
   "metadata": {
    "papermill": {
     "duration": 0.039537,
     "end_time": "2021-12-27T16:02:14.030284",
     "exception": false,
     "start_time": "2021-12-27T16:02:13.990747",
     "status": "completed"
    },
    "tags": []
   },
   "source": [
    "Let's look at the effect of each parameter on having a heart disease:"
   ]
  },
  {
   "cell_type": "code",
   "execution_count": 9,
   "id": "0b6b198e",
   "metadata": {
    "execution": {
     "iopub.execute_input": "2021-12-27T16:02:14.115023Z",
     "iopub.status.busy": "2021-12-27T16:02:14.114389Z",
     "iopub.status.idle": "2021-12-27T16:02:14.235859Z",
     "shell.execute_reply": "2021-12-27T16:02:14.235227Z",
     "shell.execute_reply.started": "2021-12-27T15:37:30.323711Z"
    },
    "papermill": {
     "duration": 0.16524,
     "end_time": "2021-12-27T16:02:14.236002",
     "exception": false,
     "start_time": "2021-12-27T16:02:14.070762",
     "status": "completed"
    },
    "tags": []
   },
   "outputs": [
    {
     "data": {
      "text/plain": [
       "([<matplotlib.patches.Wedge at 0x7f6336515990>,\n",
       "  <matplotlib.patches.Wedge at 0x7f633652d2d0>],\n",
       " [Text(-0.06825262763640201, 1.6485877528420279, 'Sick'),\n",
       "  Text(0.06825262763640144, -1.6485877528420279, 'Healthy')],\n",
       " [Text(-0.037228705983492004, 0.8992296833683786, '51.3%'),\n",
       "  Text(0.03722870598349169, -0.8992296833683786, '48.7%')])"
      ]
     },
     "execution_count": 9,
     "metadata": {},
     "output_type": "execute_result"
    },
    {
     "data": {
      "image/png": "[encoded data removed]",
      "text/plain": [
       "<Figure size 432x288 with 1 Axes>"
      ]
     },
     "metadata": {},
     "output_type": "display_data"
    }
   ],
   "source": [
    "plt.pie( df['target'].value_counts(),  labels = ['Sick','Healthy'],  colors = ['red', 'green'],  autopct = '%1.1f%%', radius = 1.5)\n"
   ]
  },
  {
   "cell_type": "markdown",
   "id": "22edc071",
   "metadata": {
    "papermill": {
     "duration": 0.040079,
     "end_time": "2021-12-27T16:02:14.317681",
     "exception": false,
     "start_time": "2021-12-27T16:02:14.277602",
     "status": "completed"
    },
    "tags": []
   },
   "source": [
    "We can see that half of the people in this study had heart disease."
   ]
  },
  {
   "cell_type": "markdown",
   "id": "8e00a0db",
   "metadata": {
    "papermill": {
     "duration": 0.041615,
     "end_time": "2021-12-27T16:02:14.405256",
     "exception": false,
     "start_time": "2021-12-27T16:02:14.363641",
     "status": "completed"
    },
    "tags": []
   },
   "source": [
    "# A. Age and sex"
   ]
  },
  {
   "cell_type": "code",
   "execution_count": 10,
   "id": "4784d526",
   "metadata": {
    "execution": {
     "iopub.execute_input": "2021-12-27T16:02:14.493578Z",
     "iopub.status.busy": "2021-12-27T16:02:14.492589Z",
     "iopub.status.idle": "2021-12-27T16:02:14.567484Z",
     "shell.execute_reply": "2021-12-27T16:02:14.567998Z",
     "shell.execute_reply.started": "2021-12-27T15:37:30.414412Z"
    },
    "papermill": {
     "duration": 0.121467,
     "end_time": "2021-12-27T16:02:14.568164",
     "exception": false,
     "start_time": "2021-12-27T16:02:14.446697",
     "status": "completed"
    },
    "tags": []
   },
   "outputs": [
    {
     "data": {
      "text/plain": [
       "([<matplotlib.patches.Wedge at 0x7f6336482210>,\n",
       "  <matplotlib.patches.Wedge at 0x7f6336482c10>],\n",
       " [Text(-0.9513428564398835, 1.3481271340273526, 'Male'),\n",
       "  Text(0.9513428564398827, -1.348127134027353, 'Female')],\n",
       " [Text(-0.5189142853308454, 0.7353420731058286, '69.6%'),\n",
       "  Text(0.518914285330845, -0.7353420731058289, '30.4%')])"
      ]
     },
     "execution_count": 10,
     "metadata": {},
     "output_type": "execute_result"
    },
    {
     "data": {
      "image/png": "[encoded data removed]",
      "text/plain": [
       "<Figure size 432x288 with 1 Axes>"
      ]
     },
     "metadata": {},
     "output_type": "display_data"
    }
   ],
   "source": [
    "plt.pie( df['sex'].value_counts(),  labels=['Male', 'Female'],  colors = ['blue', 'pink'],  autopct = '%1.1f%%',  radius = 1.5)"
   ]
  },
  {
   "cell_type": "markdown",
   "id": "9626d215",
   "metadata": {
    "papermill": {
     "duration": 0.041004,
     "end_time": "2021-12-27T16:02:14.650910",
     "exception": false,
     "start_time": "2021-12-27T16:02:14.609906",
     "status": "completed"
    },
    "tags": []
   },
   "source": [
    "We can see that 30% of people were female and 70% were male."
   ]
  },
  {
   "cell_type": "code",
   "execution_count": 11,
   "id": "d0681563",
   "metadata": {
    "execution": {
     "iopub.execute_input": "2021-12-27T16:02:14.866003Z",
     "iopub.status.busy": "2021-12-27T16:02:14.863379Z",
     "iopub.status.idle": "2021-12-27T16:02:15.091003Z",
     "shell.execute_reply": "2021-12-27T16:02:15.091502Z",
     "shell.execute_reply.started": "2021-12-27T15:37:30.505487Z"
    },
    "papermill": {
     "duration": 0.39931,
     "end_time": "2021-12-27T16:02:15.091697",
     "exception": false,
     "start_time": "2021-12-27T16:02:14.692387",
     "status": "completed"
    },
    "tags": []
   },
   "outputs": [
    {
     "data": {
      "text/plain": [
       "<AxesSubplot:xlabel='age', ylabel='Count'>"
      ]
     },
     "execution_count": 11,
     "metadata": {},
     "output_type": "execute_result"
    },
    {
     "data": {
      "image/png": "[encoded data removed]",
      "text/plain": [
       "<Figure size 432x288 with 1 Axes>"
      ]
     },
     "metadata": {
      "needs_background": "light"
     },
     "output_type": "display_data"
    }
   ],
   "source": [
    "sns.histplot( df['age'],  bins = 20 )"
   ]
  },
  {
   "cell_type": "markdown",
   "id": "0b07471d",
   "metadata": {
    "papermill": {
     "duration": 0.042061,
     "end_time": "2021-12-27T16:02:15.179603",
     "exception": false,
     "start_time": "2021-12-27T16:02:15.137542",
     "status": "completed"
    },
    "tags": []
   },
   "source": [
    "We can see that most of the people in this study had age 50-60."
   ]
  },
  {
   "cell_type": "code",
   "execution_count": 12,
   "id": "88b12572",
   "metadata": {
    "execution": {
     "iopub.execute_input": "2021-12-27T16:02:15.267492Z",
     "iopub.status.busy": "2021-12-27T16:02:15.266881Z",
     "iopub.status.idle": "2021-12-27T16:02:15.603596Z",
     "shell.execute_reply": "2021-12-27T16:02:15.604083Z",
     "shell.execute_reply.started": "2021-12-27T15:37:30.772573Z"
    },
    "papermill": {
     "duration": 0.382319,
     "end_time": "2021-12-27T16:02:15.604252",
     "exception": false,
     "start_time": "2021-12-27T16:02:15.221933",
     "status": "completed"
    },
    "tags": []
   },
   "outputs": [
    {
     "data": {
      "text/plain": [
       "<matplotlib.legend.Legend at 0x7f63363744d0>"
      ]
     },
     "execution_count": 12,
     "metadata": {},
     "output_type": "execute_result"
    },
    {
     "data": {
      "image/png": "[encoded data removed]",
      "text/plain": [
       "<Figure size 864x216 with 1 Axes>"
      ]
     },
     "metadata": {
      "needs_background": "light"
     },
     "output_type": "display_data"
    }
   ],
   "source": [
    "fig = sns.FacetGrid( df, hue = \"target\",  aspect = 4,  palette = 'mako' )\n",
    "\n",
    "fig.map( sns.kdeplot,  'age',  shade = True )\n",
    "\n",
    "fig.set( xlim = (20, 80) )\n",
    "\n",
    "plt.legend( labels = ['Healthy' , 'Sick'] )"
   ]
  },
  {
   "cell_type": "markdown",
   "id": "e4b0b3df",
   "metadata": {
    "papermill": {
     "duration": 0.043122,
     "end_time": "2021-12-27T16:02:15.690831",
     "exception": false,
     "start_time": "2021-12-27T16:02:15.647709",
     "status": "completed"
    },
    "tags": []
   },
   "source": [
    "We can see that most of the people show their heart disease between age 40-60. Also, we see a peak of healthy people at 60. Let's see if age is a factor in heart disease:"
   ]
  },
  {
   "cell_type": "code",
   "execution_count": 13,
   "id": "893626d5",
   "metadata": {
    "execution": {
     "iopub.execute_input": "2021-12-27T16:02:15.780915Z",
     "iopub.status.busy": "2021-12-27T16:02:15.780293Z",
     "iopub.status.idle": "2021-12-27T16:02:15.995370Z",
     "shell.execute_reply": "2021-12-27T16:02:15.994865Z",
     "shell.execute_reply.started": "2021-12-27T15:37:31.143292Z"
    },
    "papermill": {
     "duration": 0.260811,
     "end_time": "2021-12-27T16:02:15.995507",
     "exception": false,
     "start_time": "2021-12-27T16:02:15.734696",
     "status": "completed"
    },
    "tags": []
   },
   "outputs": [
    {
     "data": {
      "text/plain": [
       "<matplotlib.legend.Legend at 0x7f6336374890>"
      ]
     },
     "execution_count": 13,
     "metadata": {},
     "output_type": "execute_result"
    },
    {
     "data": {
      "image/png": "[encoded data removed]",
      "text/plain": [
       "<Figure size 432x288 with 1 Axes>"
      ]
     },
     "metadata": {
      "needs_background": "light"
     },
     "output_type": "display_data"
    }
   ],
   "source": [
    "fig = sns.countplot(  x = 'target',  data = df,  hue = 'sex',  palette = 'Set2' )\n",
    "\n",
    "fig.set_xticklabels(  labels = ['Healthy', 'Sick'] )\n",
    "\n",
    "plt.legend( ['Female', 'Male'] )"
   ]
  },
  {
   "cell_type": "markdown",
   "id": "5b7c6c05",
   "metadata": {
    "papermill": {
     "duration": 0.044121,
     "end_time": "2021-12-27T16:02:16.085344",
     "exception": false,
     "start_time": "2021-12-27T16:02:16.041223",
     "status": "completed"
    },
    "tags": []
   },
   "source": [
    "We can see that there are more man in this study, so both healthy and sick male are more than females. "
   ]
  },
  {
   "cell_type": "code",
   "execution_count": 14,
   "id": "7afe9bb7",
   "metadata": {
    "execution": {
     "iopub.execute_input": "2021-12-27T16:02:16.207133Z",
     "iopub.status.busy": "2021-12-27T16:02:16.181117Z",
     "iopub.status.idle": "2021-12-27T16:02:16.767826Z",
     "shell.execute_reply": "2021-12-27T16:02:16.768437Z",
     "shell.execute_reply.started": "2021-12-27T15:37:31.376461Z"
    },
    "papermill": {
     "duration": 0.638598,
     "end_time": "2021-12-27T16:02:16.768615",
     "exception": false,
     "start_time": "2021-12-27T16:02:16.130017",
     "status": "completed"
    },
    "tags": []
   },
   "outputs": [
    {
     "data": {
      "text/plain": [
       "<matplotlib.legend.Legend at 0x7f633e7f4550>"
      ]
     },
     "execution_count": 14,
     "metadata": {},
     "output_type": "execute_result"
    },
    {
     "data": {
      "image/png": "[encoded data removed]",
      "text/plain": [
       "<Figure size 360x360 with 1 Axes>"
      ]
     },
     "metadata": {
      "needs_background": "light"
     },
     "output_type": "display_data"
    }
   ],
   "source": [
    "sns.lmplot (x = 'age',  y = 'target',  data = df,  hue = 'sex',  legend = False,  palette = 'Set1' )\n",
    "\n",
    "plt.legend( ['Female', 'Male'] )"
   ]
  },
  {
   "cell_type": "markdown",
   "id": "6fae5232",
   "metadata": {
    "papermill": {
     "duration": 0.045787,
     "end_time": "2021-12-27T16:02:16.860173",
     "exception": false,
     "start_time": "2021-12-27T16:02:16.814386",
     "status": "completed"
    },
    "tags": []
   },
   "source": [
    "We can see that women tend to have more heart disease. Also, the more you get old, the less you have heart disease! (This sentence does not seem to be correct scientifically.)"
   ]
  },
  {
   "cell_type": "markdown",
   "id": "cf66934b",
   "metadata": {
    "papermill": {
     "duration": 0.045326,
     "end_time": "2021-12-27T16:02:16.950667",
     "exception": false,
     "start_time": "2021-12-27T16:02:16.905341",
     "status": "completed"
    },
    "tags": []
   },
   "source": [
    "# B. Chest pain type"
   ]
  },
  {
   "cell_type": "code",
   "execution_count": 15,
   "id": "a2bcc14d",
   "metadata": {
    "execution": {
     "iopub.execute_input": "2021-12-27T16:02:17.045000Z",
     "iopub.status.busy": "2021-12-27T16:02:17.044356Z",
     "iopub.status.idle": "2021-12-27T16:02:17.291642Z",
     "shell.execute_reply": "2021-12-27T16:02:17.291077Z",
     "shell.execute_reply.started": "2021-12-27T15:37:32.065579Z"
    },
    "papermill": {
     "duration": 0.295537,
     "end_time": "2021-12-27T16:02:17.291789",
     "exception": false,
     "start_time": "2021-12-27T16:02:16.996252",
     "status": "completed"
    },
    "tags": []
   },
   "outputs": [
    {
     "data": {
      "text/plain": [
       "<seaborn.axisgrid.FacetGrid at 0x7f633633a310>"
      ]
     },
     "execution_count": 15,
     "metadata": {},
     "output_type": "execute_result"
    },
    {
     "data": {
      "image/png": "[encoded data removed]",
      "text/plain": [
       "<Figure size 360x360 with 1 Axes>"
      ]
     },
     "metadata": {
      "needs_background": "light"
     },
     "output_type": "display_data"
    }
   ],
   "source": [
    "sns.catplot( x = 'cp',  data = df,  kind = \"count\",  palette = 'Spectral'  )"
   ]
  },
  {
   "cell_type": "markdown",
   "id": "2367cd8e",
   "metadata": {
    "papermill": {
     "duration": 0.045836,
     "end_time": "2021-12-27T16:02:17.383983",
     "exception": false,
     "start_time": "2021-12-27T16:02:17.338147",
     "status": "completed"
    },
    "tags": []
   },
   "source": [
    "We can see the chest pain type 0 is more common between people."
   ]
  },
  {
   "cell_type": "code",
   "execution_count": 16,
   "id": "6f113a95",
   "metadata": {
    "execution": {
     "iopub.execute_input": "2021-12-27T16:02:17.482121Z",
     "iopub.status.busy": "2021-12-27T16:02:17.481507Z",
     "iopub.status.idle": "2021-12-27T16:02:17.711058Z",
     "shell.execute_reply": "2021-12-27T16:02:17.710457Z",
     "shell.execute_reply.started": "2021-12-27T15:37:32.336814Z"
    },
    "papermill": {
     "duration": 0.281166,
     "end_time": "2021-12-27T16:02:17.711201",
     "exception": false,
     "start_time": "2021-12-27T16:02:17.430035",
     "status": "completed"
    },
    "tags": []
   },
   "outputs": [
    {
     "data": {
      "text/plain": [
       "[Text(0, 0, 'pain type 0'),\n",
       " Text(1, 0, 'pain type 1'),\n",
       " Text(2, 0, 'pain type 2'),\n",
       " Text(3, 0, 'pain type 3')]"
      ]
     },
     "execution_count": 16,
     "metadata": {},
     "output_type": "execute_result"
    },
    {
     "data": {
      "image/png": "[encoded data removed]",
      "text/plain": [
       "<Figure size 432x288 with 1 Axes>"
      ]
     },
     "metadata": {
      "needs_background": "light"
     },
     "output_type": "display_data"
    }
   ],
   "source": [
    "fig = sns.countplot( x = 'cp', data = df,  hue = 'target', palette = 'Set3')\n",
    "\n",
    "plt.legend( ['Healthy', 'Sick'] )\n",
    "\n",
    "fig.set_xticklabels(  labels = [ 'pain type 0', 'pain type 1',  'pain type 2', 'pain type 3' ]  )"
   ]
  },
  {
   "cell_type": "markdown",
   "id": "64567456",
   "metadata": {
    "papermill": {
     "duration": 0.046842,
     "end_time": "2021-12-27T16:02:17.804941",
     "exception": false,
     "start_time": "2021-12-27T16:02:17.758099",
     "status": "completed"
    },
    "tags": []
   },
   "source": [
    "It seems that people with chest pain type 0 are less likely to have a serious problem. Chest pain type 2 seems more serious though."
   ]
  },
  {
   "cell_type": "markdown",
   "id": "89053508",
   "metadata": {
    "papermill": {
     "duration": 0.046522,
     "end_time": "2021-12-27T16:02:17.898541",
     "exception": false,
     "start_time": "2021-12-27T16:02:17.852019",
     "status": "completed"
    },
    "tags": []
   },
   "source": [
    "# C. Resting blood pressure"
   ]
  },
  {
   "cell_type": "markdown",
   "id": "a3ddbbc2",
   "metadata": {
    "papermill": {
     "duration": 0.046911,
     "end_time": "2021-12-27T16:02:17.992882",
     "exception": false,
     "start_time": "2021-12-27T16:02:17.945971",
     "status": "completed"
    },
    "tags": []
   },
   "source": [
    "\"trestbps\" is resting blood pressure (in mm Hg on admission to the hospital). Normal resting blood pressure, in an adult is approximately 120 millimetres of mercury ."
   ]
  },
  {
   "cell_type": "code",
   "execution_count": 17,
   "id": "06dc5759",
   "metadata": {
    "execution": {
     "iopub.execute_input": "2021-12-27T16:02:18.119024Z",
     "iopub.status.busy": "2021-12-27T16:02:18.096615Z",
     "iopub.status.idle": "2021-12-27T16:02:18.318371Z",
     "shell.execute_reply": "2021-12-27T16:02:18.318863Z",
     "shell.execute_reply.started": "2021-12-27T15:37:32.598155Z"
    },
    "papermill": {
     "duration": 0.277146,
     "end_time": "2021-12-27T16:02:18.319052",
     "exception": false,
     "start_time": "2021-12-27T16:02:18.041906",
     "status": "completed"
    },
    "tags": []
   },
   "outputs": [
    {
     "data": {
      "text/plain": [
       "[Text(0.5, 0, 'resting blood pressure')]"
      ]
     },
     "execution_count": 17,
     "metadata": {},
     "output_type": "execute_result"
    },
    {
     "data": {
      "image/png": "[encoded data removed]",
      "text/plain": [
       "<Figure size 432x288 with 1 Axes>"
      ]
     },
     "metadata": {
      "needs_background": "light"
     },
     "output_type": "display_data"
    }
   ],
   "source": [
    "fig = sns.histplot( df['trestbps'],  bins = 10 )\n",
    "\n",
    "fig.set( xlabel = 'resting blood pressure' )"
   ]
  },
  {
   "cell_type": "markdown",
   "id": "79eb553f",
   "metadata": {
    "papermill": {
     "duration": 0.047166,
     "end_time": "2021-12-27T16:02:18.414018",
     "exception": false,
     "start_time": "2021-12-27T16:02:18.366852",
     "status": "completed"
    },
    "tags": []
   },
   "source": [
    "The blood pressure of the poeple in this study is between 120-130. Let's see if this is related to their health condition:"
   ]
  },
  {
   "cell_type": "code",
   "execution_count": 18,
   "id": "dbf874f4",
   "metadata": {
    "execution": {
     "iopub.execute_input": "2021-12-27T16:02:18.513424Z",
     "iopub.status.busy": "2021-12-27T16:02:18.512837Z",
     "iopub.status.idle": "2021-12-27T16:02:18.850263Z",
     "shell.execute_reply": "2021-12-27T16:02:18.850731Z",
     "shell.execute_reply.started": "2021-12-27T15:37:32.844777Z"
    },
    "papermill": {
     "duration": 0.388273,
     "end_time": "2021-12-27T16:02:18.850904",
     "exception": false,
     "start_time": "2021-12-27T16:02:18.462631",
     "status": "completed"
    },
    "tags": []
   },
   "outputs": [
    {
     "data": {
      "text/plain": [
       "<seaborn.axisgrid.FacetGrid at 0x7f633605f910>"
      ]
     },
     "execution_count": 18,
     "metadata": {},
     "output_type": "execute_result"
    },
    {
     "data": {
      "image/png": "[encoded data removed]",
      "text/plain": [
       "<Figure size 864x216 with 1 Axes>"
      ]
     },
     "metadata": {
      "needs_background": "light"
     },
     "output_type": "display_data"
    }
   ],
   "source": [
    "fig = sns.FacetGrid( df,  hue=\"target\",  aspect = 4,   palette = 'rocket'  )\n",
    "\n",
    "fig.map(  sns.kdeplot,  'trestbps',  shade = True  )\n",
    "\n",
    "plt.legend(  labels = ['Healthy' , 'Sick']  )\n",
    "\n",
    "fig.set(  xlabel = 'resting blood pressure'  )"
   ]
  },
  {
   "cell_type": "markdown",
   "id": "964269dd",
   "metadata": {
    "papermill": {
     "duration": 0.048576,
     "end_time": "2021-12-27T16:02:18.949049",
     "exception": false,
     "start_time": "2021-12-27T16:02:18.900473",
     "status": "completed"
    },
    "tags": []
   },
   "source": [
    "It seems that people with heart problems generally had slighly lower blood pressure than normal people."
   ]
  },
  {
   "cell_type": "code",
   "execution_count": 19,
   "id": "2e86b37c",
   "metadata": {
    "execution": {
     "iopub.execute_input": "2021-12-27T16:02:19.053158Z",
     "iopub.status.busy": "2021-12-27T16:02:19.052256Z",
     "iopub.status.idle": "2021-12-27T16:02:19.387983Z",
     "shell.execute_reply": "2021-12-27T16:02:19.387352Z",
     "shell.execute_reply.started": "2021-12-27T15:37:33.229659Z"
    },
    "papermill": {
     "duration": 0.388504,
     "end_time": "2021-12-27T16:02:19.388122",
     "exception": false,
     "start_time": "2021-12-27T16:02:18.999618",
     "status": "completed"
    },
    "tags": []
   },
   "outputs": [
    {
     "data": {
      "text/plain": [
       "<seaborn.axisgrid.FacetGrid at 0x7f6335fa19d0>"
      ]
     },
     "execution_count": 19,
     "metadata": {},
     "output_type": "execute_result"
    },
    {
     "data": {
      "image/png": "[encoded data removed]",
      "text/plain": [
       "<Figure size 864x216 with 1 Axes>"
      ]
     },
     "metadata": {
      "needs_background": "light"
     },
     "output_type": "display_data"
    }
   ],
   "source": [
    "fig = sns.FacetGrid( df, hue = \"sex\",  aspect = 4,  palette = 'mako' )\n",
    "\n",
    "fig.map(  sns.kdeplot,  'trestbps',  shade = True  )\n",
    "\n",
    "plt.legend(  labels = ['Male' , 'Female'] )\n",
    "\n",
    "fig.set( xlabel = 'resting blood pressure' )"
   ]
  },
  {
   "cell_type": "markdown",
   "id": "6b0da19a",
   "metadata": {
    "papermill": {
     "duration": 0.050482,
     "end_time": "2021-12-27T16:02:19.489193",
     "exception": false,
     "start_time": "2021-12-27T16:02:19.438711",
     "status": "completed"
    },
    "tags": []
   },
   "source": [
    "Women have lower resting blood pressure comparing to men. For women is around 120 while for men is a little less than 140."
   ]
  },
  {
   "cell_type": "markdown",
   "id": "ebfd0941",
   "metadata": {
    "papermill": {
     "duration": 0.050255,
     "end_time": "2021-12-27T16:02:19.589852",
     "exception": false,
     "start_time": "2021-12-27T16:02:19.539597",
     "status": "completed"
    },
    "tags": []
   },
   "source": [
    "# D. Serum cholestoral"
   ]
  },
  {
   "cell_type": "markdown",
   "id": "78cd5c66",
   "metadata": {
    "papermill": {
     "duration": 0.050127,
     "end_time": "2021-12-27T16:02:19.691508",
     "exception": false,
     "start_time": "2021-12-27T16:02:19.641381",
     "status": "completed"
    },
    "tags": []
   },
   "source": [
    "chol or serum cholestoral in mg/dl is measured in all people. Healthy serum cholesterol is less than 200 mg/dL."
   ]
  },
  {
   "cell_type": "code",
   "execution_count": 20,
   "id": "bda51516",
   "metadata": {
    "execution": {
     "iopub.execute_input": "2021-12-27T16:02:19.796837Z",
     "iopub.status.busy": "2021-12-27T16:02:19.796179Z",
     "iopub.status.idle": "2021-12-27T16:02:20.053913Z",
     "shell.execute_reply": "2021-12-27T16:02:20.053411Z",
     "shell.execute_reply.started": "2021-12-27T15:37:33.611888Z"
    },
    "papermill": {
     "duration": 0.312169,
     "end_time": "2021-12-27T16:02:20.054046",
     "exception": false,
     "start_time": "2021-12-27T16:02:19.741877",
     "status": "completed"
    },
    "tags": []
   },
   "outputs": [
    {
     "data": {
      "text/plain": [
       "[Text(0.5, 0, 'serum cholestrol')]"
      ]
     },
     "execution_count": 20,
     "metadata": {},
     "output_type": "execute_result"
    },
    {
     "data": {
      "image/png": "[encoded data removed]",
      "text/plain": [
       "<Figure size 432x288 with 1 Axes>"
      ]
     },
     "metadata": {
      "needs_background": "light"
     },
     "output_type": "display_data"
    }
   ],
   "source": [
    "fig = sns.histplot( df['chol'],  bins = 30 )\n",
    "\n",
    "fig.set(  xlabel = 'serum cholestrol'   )"
   ]
  },
  {
   "cell_type": "markdown",
   "id": "179b4349",
   "metadata": {
    "papermill": {
     "duration": 0.051232,
     "end_time": "2021-12-27T16:02:20.157106",
     "exception": false,
     "start_time": "2021-12-27T16:02:20.105874",
     "status": "completed"
    },
    "tags": []
   },
   "source": [
    "As expected, serum cholestrol is between 200-300 in this study."
   ]
  },
  {
   "cell_type": "code",
   "execution_count": 21,
   "id": "947d22e8",
   "metadata": {
    "execution": {
     "iopub.execute_input": "2021-12-27T16:02:20.299785Z",
     "iopub.status.busy": "2021-12-27T16:02:20.275671Z",
     "iopub.status.idle": "2021-12-27T16:02:20.870882Z",
     "shell.execute_reply": "2021-12-27T16:02:20.871365Z",
     "shell.execute_reply.started": "2021-12-27T15:37:33.903012Z"
    },
    "papermill": {
     "duration": 0.663069,
     "end_time": "2021-12-27T16:02:20.871536",
     "exception": false,
     "start_time": "2021-12-27T16:02:20.208467",
     "status": "completed"
    },
    "tags": []
   },
   "outputs": [
    {
     "data": {
      "text/plain": [
       "<matplotlib.legend.Legend at 0x7f6335cf2550>"
      ]
     },
     "execution_count": 21,
     "metadata": {},
     "output_type": "execute_result"
    },
    {
     "data": {
      "image/png": "[encoded data removed]",
      "text/plain": [
       "<Figure size 432x432 with 3 Axes>"
      ]
     },
     "metadata": {
      "needs_background": "light"
     },
     "output_type": "display_data"
    }
   ],
   "source": [
    "sns.jointplot( data = df,   x = 'trestbps',   y = 'age',  hue = 'sex',  kind = 'scatter',   legend = False )\n",
    "\n",
    "plt.legend(  labels = ['Male' , 'Female'] )"
   ]
  },
  {
   "cell_type": "markdown",
   "id": "2bf3a854",
   "metadata": {
    "papermill": {
     "duration": 0.052903,
     "end_time": "2021-12-27T16:02:20.977110",
     "exception": false,
     "start_time": "2021-12-27T16:02:20.924207",
     "status": "completed"
    },
    "tags": []
   },
   "source": [
    "In both women and men we can see that blood pressure increases with age."
   ]
  },
  {
   "cell_type": "markdown",
   "id": "6b53bff2",
   "metadata": {
    "papermill": {
     "duration": 0.053749,
     "end_time": "2021-12-27T16:02:21.085449",
     "exception": false,
     "start_time": "2021-12-27T16:02:21.031700",
     "status": "completed"
    },
    "tags": []
   },
   "source": [
    "# E. Fasting blood sugar"
   ]
  },
  {
   "cell_type": "markdown",
   "id": "add4d3cf",
   "metadata": {
    "papermill": {
     "duration": 0.055227,
     "end_time": "2021-12-27T16:02:21.194040",
     "exception": false,
     "start_time": "2021-12-27T16:02:21.138813",
     "status": "completed"
    },
    "tags": []
   },
   "source": [
    "fbs or fasting blood sugar should be less than 120 mg/dl. 1: true; 0: false"
   ]
  },
  {
   "cell_type": "code",
   "execution_count": 22,
   "id": "67bedfaf",
   "metadata": {
    "execution": {
     "iopub.execute_input": "2021-12-27T16:02:21.307425Z",
     "iopub.status.busy": "2021-12-27T16:02:21.306735Z",
     "iopub.status.idle": "2021-12-27T16:02:21.502167Z",
     "shell.execute_reply": "2021-12-27T16:02:21.502616Z",
     "shell.execute_reply.started": "2021-12-27T15:37:34.595080Z"
    },
    "papermill": {
     "duration": 0.254197,
     "end_time": "2021-12-27T16:02:21.502806",
     "exception": false,
     "start_time": "2021-12-27T16:02:21.248609",
     "status": "completed"
    },
    "tags": []
   },
   "outputs": [
    {
     "data": {
      "text/plain": [
       "[Text(0, 0, 'low blood sugar'), Text(1, 0, 'high blood sugar')]"
      ]
     },
     "execution_count": 22,
     "metadata": {},
     "output_type": "execute_result"
    },
    {
     "data": {
      "image/png": "[encoded data removed]",
      "text/plain": [
       "<Figure size 432x288 with 1 Axes>"
      ]
     },
     "metadata": {
      "needs_background": "light"
     },
     "output_type": "display_data"
    }
   ],
   "source": [
    "fig = sns.countplot( x = 'fbs',  data = df,  hue = 'target',  palette = 'Reds' )\n",
    "\n",
    "plt.legend( ['Healthy', 'Sick'] )\n",
    "\n",
    "fig.set_xticklabels( labels = [ 'low blood sugar', 'high blood sugar'] )"
   ]
  },
  {
   "cell_type": "markdown",
   "id": "445b2c63",
   "metadata": {
    "papermill": {
     "duration": 0.059713,
     "end_time": "2021-12-27T16:02:21.616400",
     "exception": false,
     "start_time": "2021-12-27T16:02:21.556687",
     "status": "completed"
    },
    "tags": []
   },
   "source": [
    "We see that most of the healthy and sick people have blood sugar less than 120. Few people have higher blood sugar, but it may not be the reason they are sick."
   ]
  },
  {
   "cell_type": "markdown",
   "id": "0a556858",
   "metadata": {
    "papermill": {
     "duration": 0.055384,
     "end_time": "2021-12-27T16:02:21.726348",
     "exception": false,
     "start_time": "2021-12-27T16:02:21.670964",
     "status": "completed"
    },
    "tags": []
   },
   "source": [
    "# F. Resting electrocardiographic results"
   ]
  },
  {
   "cell_type": "markdown",
   "id": "90c7678f",
   "metadata": {
    "papermill": {
     "duration": 0.054319,
     "end_time": "2021-12-27T16:02:21.834039",
     "exception": false,
     "start_time": "2021-12-27T16:02:21.779720",
     "status": "completed"
    },
    "tags": []
   },
   "source": [
    "Resting electrocardiographic results can have 0,1 and 2 value:\n",
    "\n",
    "Value 0: normal, \n",
    "Value 1: having ST-T wave abnormality (T wave inversions and/or ST elevation or depression of > 0.05 mV),\n",
    "Value 2: showing probable or definite left ventricular hypertrophy by Estes' criteria"
   ]
  },
  {
   "cell_type": "code",
   "execution_count": 23,
   "id": "f7489e13",
   "metadata": {
    "execution": {
     "iopub.execute_input": "2021-12-27T16:02:21.956155Z",
     "iopub.status.busy": "2021-12-27T16:02:21.955184Z",
     "iopub.status.idle": "2021-12-27T16:02:22.169185Z",
     "shell.execute_reply": "2021-12-27T16:02:22.169809Z",
     "shell.execute_reply.started": "2021-12-27T15:37:34.808589Z"
    },
    "papermill": {
     "duration": 0.274421,
     "end_time": "2021-12-27T16:02:22.169975",
     "exception": false,
     "start_time": "2021-12-27T16:02:21.895554",
     "status": "completed"
    },
    "tags": []
   },
   "outputs": [
    {
     "data": {
      "text/plain": [
       "[Text(0, 0, 'value 0'), Text(1, 0, 'value 1'), Text(2, 0, 'value 2')]"
      ]
     },
     "execution_count": 23,
     "metadata": {},
     "output_type": "execute_result"
    },
    {
     "data": {
      "image/png": "[encoded data removed]",
      "text/plain": [
       "<Figure size 432x288 with 1 Axes>"
      ]
     },
     "metadata": {
      "needs_background": "light"
     },
     "output_type": "display_data"
    }
   ],
   "source": [
    "fig = sns.countplot( x = 'restecg', data = df,  hue = 'target', palette = 'YlOrBr' )\n",
    "\n",
    "plt.legend( ['Healthy', 'Sick'] )\n",
    "\n",
    "fig.set_xticklabels( labels = [ 'value 0', 'value 1',  'value 2'] )"
   ]
  },
  {
   "cell_type": "markdown",
   "id": "53bd4650",
   "metadata": {
    "papermill": {
     "duration": 0.054168,
     "end_time": "2021-12-27T16:02:22.278530",
     "exception": false,
     "start_time": "2021-12-27T16:02:22.224362",
     "status": "completed"
    },
    "tags": []
   },
   "source": [
    "It seems that value 2 is kind of rare result. Also, value 1 seems to be more dangerous as a lot of sick people have that."
   ]
  },
  {
   "cell_type": "markdown",
   "id": "48feb01d",
   "metadata": {
    "papermill": {
     "duration": 0.054027,
     "end_time": "2021-12-27T16:02:22.386828",
     "exception": false,
     "start_time": "2021-12-27T16:02:22.332801",
     "status": "completed"
    },
    "tags": []
   },
   "source": [
    "# G. Maximum heart rate achieved"
   ]
  },
  {
   "cell_type": "markdown",
   "id": "d41b697d",
   "metadata": {
    "papermill": {
     "duration": 0.054101,
     "end_time": "2021-12-27T16:02:22.496221",
     "exception": false,
     "start_time": "2021-12-27T16:02:22.442120",
     "status": "completed"
    },
    "tags": []
   },
   "source": [
    "thalach or maximum heart rate achieved histogram is below:"
   ]
  },
  {
   "cell_type": "code",
   "execution_count": 24,
   "id": "631f0f3f",
   "metadata": {
    "execution": {
     "iopub.execute_input": "2021-12-27T16:02:22.614320Z",
     "iopub.status.busy": "2021-12-27T16:02:22.612239Z",
     "iopub.status.idle": "2021-12-27T16:02:22.859857Z",
     "shell.execute_reply": "2021-12-27T16:02:22.859362Z",
     "shell.execute_reply.started": "2021-12-27T15:37:35.066825Z"
    },
    "papermill": {
     "duration": 0.308537,
     "end_time": "2021-12-27T16:02:22.859996",
     "exception": false,
     "start_time": "2021-12-27T16:02:22.551459",
     "status": "completed"
    },
    "tags": []
   },
   "outputs": [
    {
     "data": {
      "text/plain": [
       "[Text(0.5, 0, 'maximum heart rate achieved')]"
      ]
     },
     "execution_count": 24,
     "metadata": {},
     "output_type": "execute_result"
    },
    {
     "data": {
      "image/png": "[encoded data removed]",
      "text/plain": [
       "<Figure size 432x288 with 1 Axes>"
      ]
     },
     "metadata": {
      "needs_background": "light"
     },
     "output_type": "display_data"
    }
   ],
   "source": [
    "fig = sns.histplot( df[  'thalach'],  bins = 20 )\n",
    "\n",
    "fig.set(  xlabel = 'maximum heart rate achieved' )"
   ]
  },
  {
   "cell_type": "markdown",
   "id": "189b4b9a",
   "metadata": {
    "papermill": {
     "duration": 0.056478,
     "end_time": "2021-12-27T16:02:22.971526",
     "exception": false,
     "start_time": "2021-12-27T16:02:22.915048",
     "status": "completed"
    },
    "tags": []
   },
   "source": [
    "The maximum heart rate achieved seems to be between 150 - 170."
   ]
  },
  {
   "cell_type": "code",
   "execution_count": 25,
   "id": "b6d25b73",
   "metadata": {
    "execution": {
     "iopub.execute_input": "2021-12-27T16:02:23.090038Z",
     "iopub.status.busy": "2021-12-27T16:02:23.089347Z",
     "iopub.status.idle": "2021-12-27T16:02:23.280027Z",
     "shell.execute_reply": "2021-12-27T16:02:23.279417Z",
     "shell.execute_reply.started": "2021-12-27T15:37:35.357935Z"
    },
    "papermill": {
     "duration": 0.253259,
     "end_time": "2021-12-27T16:02:23.280163",
     "exception": false,
     "start_time": "2021-12-27T16:02:23.026904",
     "status": "completed"
    },
    "tags": []
   },
   "outputs": [
    {
     "data": {
      "text/plain": [
       "[Text(0, 0, 'healthy'), Text(1, 0, 'sick')]"
      ]
     },
     "execution_count": 25,
     "metadata": {},
     "output_type": "execute_result"
    },
    {
     "data": {
      "image/png": "[encoded data removed]",
      "text/plain": [
       "<Figure size 432x288 with 1 Axes>"
      ]
     },
     "metadata": {
      "needs_background": "light"
     },
     "output_type": "display_data"
    }
   ],
   "source": [
    "fig = sns.stripplot( data = df,  x = 'target',   y = 'thalach',  palette = 'cool'  )\n",
    "\n",
    "fig.set_xticklabels(  labels = [ 'healthy', 'sick']  )"
   ]
  },
  {
   "cell_type": "markdown",
   "id": "d8a2a9cb",
   "metadata": {
    "papermill": {
     "duration": 0.057094,
     "end_time": "2021-12-27T16:02:23.393836",
     "exception": false,
     "start_time": "2021-12-27T16:02:23.336742",
     "status": "completed"
    },
    "tags": []
   },
   "source": [
    "Sick people seem to have higher maximum heart rate values."
   ]
  },
  {
   "cell_type": "markdown",
   "id": "aaeb8836",
   "metadata": {
    "papermill": {
     "duration": 0.056398,
     "end_time": "2021-12-27T16:02:23.507395",
     "exception": false,
     "start_time": "2021-12-27T16:02:23.450997",
     "status": "completed"
    },
    "tags": []
   },
   "source": [
    "# H. Exercise induced angina"
   ]
  },
  {
   "cell_type": "markdown",
   "id": "30720ebf",
   "metadata": {
    "papermill": {
     "duration": 0.057337,
     "end_time": "2021-12-27T16:02:23.622510",
     "exception": false,
     "start_time": "2021-12-27T16:02:23.565173",
     "status": "completed"
    },
    "tags": []
   },
   "source": [
    "exang or exercise induced angina is a feeling like pressure in the chest, jaw or arm. It frequently may occur with exercise or stress. "
   ]
  },
  {
   "cell_type": "code",
   "execution_count": 26,
   "id": "a80acb10",
   "metadata": {
    "execution": {
     "iopub.execute_input": "2021-12-27T16:02:23.739930Z",
     "iopub.status.busy": "2021-12-27T16:02:23.739273Z",
     "iopub.status.idle": "2021-12-27T16:02:23.932998Z",
     "shell.execute_reply": "2021-12-27T16:02:23.932481Z",
     "shell.execute_reply.started": "2021-12-27T15:37:35.572904Z"
    },
    "papermill": {
     "duration": 0.254712,
     "end_time": "2021-12-27T16:02:23.933149",
     "exception": false,
     "start_time": "2021-12-27T16:02:23.678437",
     "status": "completed"
    },
    "tags": []
   },
   "outputs": [
    {
     "data": {
      "text/plain": [
       "[Text(0, 0, 'no angina'), Text(1, 0, 'with angina')]"
      ]
     },
     "execution_count": 26,
     "metadata": {},
     "output_type": "execute_result"
    },
    {
     "data": {
      "image/png": "[encoded data removed]",
      "text/plain": [
       "<Figure size 432x288 with 1 Axes>"
      ]
     },
     "metadata": {
      "needs_background": "light"
     },
     "output_type": "display_data"
    }
   ],
   "source": [
    "fig = sns.countplot(  x = 'exang',  data = df,   hue = 'target',  palette = 'gist_heat'  )\n",
    "\n",
    "plt.legend(  ['Healthy',  'Sick'] )\n",
    "\n",
    "fig.set_xticklabels(  labels = [ 'no angina',  'with angina'] )"
   ]
  },
  {
   "cell_type": "markdown",
   "id": "4af0cce0",
   "metadata": {
    "papermill": {
     "duration": 0.057843,
     "end_time": "2021-12-27T16:02:24.049204",
     "exception": false,
     "start_time": "2021-12-27T16:02:23.991361",
     "status": "completed"
    },
    "tags": []
   },
   "source": [
    "We can see that many healthy people have exercise induced angina, while many sick people do not have it. So this might not be a sign of heart disease. "
   ]
  },
  {
   "cell_type": "markdown",
   "id": "e986d237",
   "metadata": {
    "papermill": {
     "duration": 0.057183,
     "end_time": "2021-12-27T16:02:24.164360",
     "exception": false,
     "start_time": "2021-12-27T16:02:24.107177",
     "status": "completed"
    },
    "tags": []
   },
   "source": [
    "# I. Oldpeak (ST depression)"
   ]
  },
  {
   "cell_type": "markdown",
   "id": "e9758cf3",
   "metadata": {
    "papermill": {
     "duration": 0.058965,
     "end_time": "2021-12-27T16:02:24.280473",
     "exception": false,
     "start_time": "2021-12-27T16:02:24.221508",
     "status": "completed"
    },
    "tags": []
   },
   "source": [
    "Electrocardiography is the process of producing an electrocardiogram. It is a graph of voltage versus time of the electrical activity of the heart using electrodes placed on the skin. ST depression refers to a finding on an electrocardiogram, wherein the trace in the ST segment is abnormally low below the baseline. "
   ]
  },
  {
   "cell_type": "code",
   "execution_count": 27,
   "id": "e3403583",
   "metadata": {
    "execution": {
     "iopub.execute_input": "2021-12-27T16:02:24.400959Z",
     "iopub.status.busy": "2021-12-27T16:02:24.399573Z",
     "iopub.status.idle": "2021-12-27T16:02:24.831240Z",
     "shell.execute_reply": "2021-12-27T16:02:24.830630Z",
     "shell.execute_reply.started": "2021-12-27T15:37:35.790486Z"
    },
    "papermill": {
     "duration": 0.494143,
     "end_time": "2021-12-27T16:02:24.831404",
     "exception": false,
     "start_time": "2021-12-27T16:02:24.337261",
     "status": "completed"
    },
    "tags": []
   },
   "outputs": [
    {
     "data": {
      "text/plain": [
       "<matplotlib.legend.Legend at 0x7f6335a99710>"
      ]
     },
     "execution_count": 27,
     "metadata": {},
     "output_type": "execute_result"
    },
    {
     "data": {
      "image/png": "[encoded data removed]",
      "text/plain": [
       "<Figure size 864x216 with 1 Axes>"
      ]
     },
     "metadata": {
      "needs_background": "light"
     },
     "output_type": "display_data"
    }
   ],
   "source": [
    "fig = sns.FacetGrid( df,  hue = \"target\",  aspect = 4,  palette = 'rocket'  )\n",
    "\n",
    "fig.map(  sns.kdeplot,  'oldpeak',  shade = True  )\n",
    "\n",
    "plt.legend(  labels = ['Healthy' , 'Sick']  )"
   ]
  },
  {
   "cell_type": "markdown",
   "id": "09d61632",
   "metadata": {
    "papermill": {
     "duration": 0.057622,
     "end_time": "2021-12-27T16:02:24.948775",
     "exception": false,
     "start_time": "2021-12-27T16:02:24.891153",
     "status": "completed"
    },
    "tags": []
   },
   "source": [
    "We can clearly see that in sick people we have a pick around 0. This can be a good indicator for this heart disease."
   ]
  },
  {
   "cell_type": "markdown",
   "id": "e60f81f0",
   "metadata": {
    "papermill": {
     "duration": 0.058919,
     "end_time": "2021-12-27T16:02:25.066242",
     "exception": false,
     "start_time": "2021-12-27T16:02:25.007323",
     "status": "completed"
    },
    "tags": []
   },
   "source": [
    "# J. Slope of the peak exercise ST segment"
   ]
  },
  {
   "cell_type": "markdown",
   "id": "cc433b2d",
   "metadata": {
    "papermill": {
     "duration": 0.057987,
     "end_time": "2021-12-27T16:02:25.183387",
     "exception": false,
     "start_time": "2021-12-27T16:02:25.125400",
     "status": "completed"
    },
    "tags": []
   },
   "source": [
    "The slope of the peak exercise ST segment can have 3 values:\n",
    "\n",
    "Value 1: upsloping, Value 2: flat, Value 3: downsloping"
   ]
  },
  {
   "cell_type": "code",
   "execution_count": 28,
   "id": "ca65e486",
   "metadata": {
    "execution": {
     "iopub.execute_input": "2021-12-27T16:02:25.308029Z",
     "iopub.status.busy": "2021-12-27T16:02:25.306083Z",
     "iopub.status.idle": "2021-12-27T16:02:25.525867Z",
     "shell.execute_reply": "2021-12-27T16:02:25.525059Z",
     "shell.execute_reply.started": "2021-12-27T15:37:36.143036Z"
    },
    "papermill": {
     "duration": 0.284244,
     "end_time": "2021-12-27T16:02:25.526013",
     "exception": false,
     "start_time": "2021-12-27T16:02:25.241769",
     "status": "completed"
    },
    "tags": []
   },
   "outputs": [
    {
     "data": {
      "text/plain": [
       "[Text(0, 0, 'value 1'), Text(1, 0, 'value 2'), Text(2, 0, 'value 3')]"
      ]
     },
     "execution_count": 28,
     "metadata": {},
     "output_type": "execute_result"
    },
    {
     "data": {
      "image/png": "[encoded data removed]",
      "text/plain": [
       "<Figure size 432x288 with 1 Axes>"
      ]
     },
     "metadata": {
      "needs_background": "light"
     },
     "output_type": "display_data"
    }
   ],
   "source": [
    "fig = sns.countplot(  x = 'slope',  data = df,  hue = 'target',  palette = 'BuPu'  )\n",
    "\n",
    "plt.legend(  ['Healthy', 'Sick'] )\n",
    "\n",
    "fig.set_xticklabels(  labels = [ 'value 1',  'value 2',  'value 3']  )"
   ]
  },
  {
   "cell_type": "markdown",
   "id": "2e6c4134",
   "metadata": {
    "papermill": {
     "duration": 0.060401,
     "end_time": "2021-12-27T16:02:25.646439",
     "exception": false,
     "start_time": "2021-12-27T16:02:25.586038",
     "status": "completed"
    },
    "tags": []
   },
   "source": [
    "We can see that value 1 (unsloping) is somehow rare. While many healthy people have the value 2 (flat), many sick people have the value 3 (downsloping). So this should be taken more seriously."
   ]
  },
  {
   "cell_type": "markdown",
   "id": "f12a1774",
   "metadata": {
    "papermill": {
     "duration": 0.058211,
     "end_time": "2021-12-27T16:02:25.763932",
     "exception": false,
     "start_time": "2021-12-27T16:02:25.705721",
     "status": "completed"
    },
    "tags": []
   },
   "source": [
    "# K. Number of major vessels colored by flourosopy"
   ]
  },
  {
   "cell_type": "markdown",
   "id": "f6629bb5",
   "metadata": {
    "papermill": {
     "duration": 0.058672,
     "end_time": "2021-12-27T16:02:25.881595",
     "exception": false,
     "start_time": "2021-12-27T16:02:25.822923",
     "status": "completed"
    },
    "tags": []
   },
   "source": [
    "ca or number of major vessels (0-3) colored by flourosopy can be 0 to 3."
   ]
  },
  {
   "cell_type": "code",
   "execution_count": 29,
   "id": "4230c268",
   "metadata": {
    "execution": {
     "iopub.execute_input": "2021-12-27T16:02:26.004732Z",
     "iopub.status.busy": "2021-12-27T16:02:26.003811Z",
     "iopub.status.idle": "2021-12-27T16:02:26.246997Z",
     "shell.execute_reply": "2021-12-27T16:02:26.247480Z",
     "shell.execute_reply.started": "2021-12-27T15:37:36.382712Z"
    },
    "papermill": {
     "duration": 0.306909,
     "end_time": "2021-12-27T16:02:26.247659",
     "exception": false,
     "start_time": "2021-12-27T16:02:25.940750",
     "status": "completed"
    },
    "tags": []
   },
   "outputs": [
    {
     "data": {
      "text/plain": [
       "<matplotlib.legend.Legend at 0x7f6335973e90>"
      ]
     },
     "execution_count": 29,
     "metadata": {},
     "output_type": "execute_result"
    },
    {
     "data": {
      "image/png": "[encoded data removed]",
      "text/plain": [
       "<Figure size 432x288 with 1 Axes>"
      ]
     },
     "metadata": {
      "needs_background": "light"
     },
     "output_type": "display_data"
    }
   ],
   "source": [
    "fig = sns.countplot(  x = 'ca',  data = df, hue = 'target', palette = 'BuGn' )\n",
    "\n",
    "plt.legend(  ['Healthy', 'Sick'] )"
   ]
  },
  {
   "cell_type": "markdown",
   "id": "af640721",
   "metadata": {
    "papermill": {
     "duration": 0.05917,
     "end_time": "2021-12-27T16:02:26.367216",
     "exception": false,
     "start_time": "2021-12-27T16:02:26.308046",
     "status": "completed"
    },
    "tags": []
   },
   "source": [
    "We can see that in sick people there are many people with 0 major vessels colored by flourosopy. So this is also should be taken into account."
   ]
  },
  {
   "cell_type": "markdown",
   "id": "102921f6",
   "metadata": {
    "papermill": {
     "duration": 0.061216,
     "end_time": "2021-12-27T16:02:26.488176",
     "exception": false,
     "start_time": "2021-12-27T16:02:26.426960",
     "status": "completed"
    },
    "tags": []
   },
   "source": [
    "# L. Thalassemia"
   ]
  },
  {
   "cell_type": "markdown",
   "id": "548590e6",
   "metadata": {
    "papermill": {
     "duration": 0.059123,
     "end_time": "2021-12-27T16:02:26.608287",
     "exception": false,
     "start_time": "2021-12-27T16:02:26.549164",
     "status": "completed"
    },
    "tags": []
   },
   "source": [
    "A blood disorder called thalassemia can be 4 kinds in these patients."
   ]
  },
  {
   "cell_type": "code",
   "execution_count": 30,
   "id": "dcab6fbd",
   "metadata": {
    "execution": {
     "iopub.execute_input": "2021-12-27T16:02:26.731617Z",
     "iopub.status.busy": "2021-12-27T16:02:26.730921Z",
     "iopub.status.idle": "2021-12-27T16:02:26.961988Z",
     "shell.execute_reply": "2021-12-27T16:02:26.962429Z",
     "shell.execute_reply.started": "2021-12-27T15:37:36.950363Z"
    },
    "papermill": {
     "duration": 0.294458,
     "end_time": "2021-12-27T16:02:26.962602",
     "exception": false,
     "start_time": "2021-12-27T16:02:26.668144",
     "status": "completed"
    },
    "tags": []
   },
   "outputs": [
    {
     "data": {
      "text/plain": [
       "<matplotlib.legend.Legend at 0x7f6335883490>"
      ]
     },
     "execution_count": 30,
     "metadata": {},
     "output_type": "execute_result"
    },
    {
     "data": {
      "image/png": "[encoded data removed]",
      "text/plain": [
       "<Figure size 432x288 with 1 Axes>"
      ]
     },
     "metadata": {
      "needs_background": "light"
     },
     "output_type": "display_data"
    }
   ],
   "source": [
    "fig = sns.countplot(  x = 'thal', data = df,  hue = 'target',  palette = 'turbo'  )\n",
    "\n",
    "plt.legend(  ['Healthy', 'Sick']  )"
   ]
  },
  {
   "cell_type": "markdown",
   "id": "2158f66b",
   "metadata": {
    "papermill": {
     "duration": 0.062764,
     "end_time": "2021-12-27T16:02:27.086623",
     "exception": false,
     "start_time": "2021-12-27T16:02:27.023859",
     "status": "completed"
    },
    "tags": []
   },
   "source": [
    "We can see many sick people have the kind 2 of Thalassemia."
   ]
  },
  {
   "cell_type": "markdown",
   "id": "96b036a7",
   "metadata": {
    "papermill": {
     "duration": 0.060223,
     "end_time": "2021-12-27T16:02:27.207941",
     "exception": false,
     "start_time": "2021-12-27T16:02:27.147718",
     "status": "completed"
    },
    "tags": []
   },
   "source": [
    "# Step 4: Corrolations"
   ]
  },
  {
   "cell_type": "markdown",
   "id": "c6ca404e",
   "metadata": {
    "papermill": {
     "duration": 0.061763,
     "end_time": "2021-12-27T16:02:27.330341",
     "exception": false,
     "start_time": "2021-12-27T16:02:27.268578",
     "status": "completed"
    },
    "tags": []
   },
   "source": [
    "Now that we analyzed all the factors, let's see if the corrolation heatmap gives us:"
   ]
  },
  {
   "cell_type": "code",
   "execution_count": 31,
   "id": "9468b9fd",
   "metadata": {
    "execution": {
     "iopub.execute_input": "2021-12-27T16:02:27.456901Z",
     "iopub.status.busy": "2021-12-27T16:02:27.456210Z",
     "iopub.status.idle": "2021-12-27T16:02:27.884290Z",
     "shell.execute_reply": "2021-12-27T16:02:27.884753Z",
     "shell.execute_reply.started": "2021-12-27T15:37:37.241277Z"
    },
    "papermill": {
     "duration": 0.492447,
     "end_time": "2021-12-27T16:02:27.884920",
     "exception": false,
     "start_time": "2021-12-27T16:02:27.392473",
     "status": "completed"
    },
    "tags": []
   },
   "outputs": [
    {
     "data": {
      "text/plain": [
       "<AxesSubplot:>"
      ]
     },
     "execution_count": 31,
     "metadata": {},
     "output_type": "execute_result"
    },
    {
     "data": {
      "image/png": "[encoded data removed]",
      "text/plain": [
       "<Figure size 792x648 with 2 Axes>"
      ]
     },
     "metadata": {
      "needs_background": "light"
     },
     "output_type": "display_data"
    }
   ],
   "source": [
    "corr = df.corr()\n",
    "\n",
    "plt.subplots( figsize = (11, 9) )\n",
    "\n",
    "cmap = sns.diverging_palette( 250, 30,  as_cmap = True )\n",
    "\n",
    "sns.heatmap( corr,  cmap = cmap,  center = 0,  square = True,   linewidths = .5  )"
   ]
  },
  {
   "cell_type": "markdown",
   "id": "5b3a66c8",
   "metadata": {
    "papermill": {
     "duration": 0.061944,
     "end_time": "2021-12-27T16:02:28.009883",
     "exception": false,
     "start_time": "2021-12-27T16:02:27.947939",
     "status": "completed"
    },
    "tags": []
   },
   "source": [
    "It is obvious that chest pain (cp), maximum heart rate achieved (thalach) and slope have a possitive corrolation with target, while exercise induced angina (exang), oldpeak, number of major vessels colored by flourosopy (ca) and thalasemia (thal) have a negative corrolation."
   ]
  }
 ],
 "metadata": {
  "kernelspec": {
   "display_name": "Python 3",
   "language": "python",
   "name": "python3"
  },
  "language_info": {
   "codemirror_mode": {
    "name": "ipython",
    "version": 3
   },
   "file_extension": ".py",
   "mimetype": "text/x-python",
   "name": "python",
   "nbconvert_exporter": "python",
   "pygments_lexer": "ipython3",
   "version": "3.9.13"
  },
  "papermill": {
   "default_parameters": {},
   "duration": 25.413083,
   "end_time": "2021-12-27T16:02:28.885313",
   "environment_variables": {},
   "exception": null,
   "input_path": "__notebook__.ipynb",
   "output_path": "__notebook__.ipynb",
   "parameters": {},
   "start_time": "2021-12-27T16:02:03.472230",
   "version": "2.3.3"
  }
 },
 "nbformat": 4,
 "nbformat_minor": 5
}
